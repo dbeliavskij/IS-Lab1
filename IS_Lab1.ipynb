{
 "cells": [
  {
   "cell_type": "markdown",
   "id": "a77071a1",
   "metadata": {},
   "source": [
    "# IS-Lab1 (EN)\n",
    "Intelligent systems. Task for the laboratory for Perceptron training.\n",
    "# Aim\n",
    "Learn to write training (parameter estimation) algorithm for simple linear classifier.\n",
    "# Tasks (maximum 8 points)\n",
    "1. Create a program for classification using single Perceptron of two different objects into two classes according to two estimated features. Output estimation should be done acording to the following equation:\n",
    "y = 1, if x1\\*w1 + x2\\*w2 + b > 0; y = -1, if x1\\*w1 + x2\\*w2 + b <= 0; here w1, w2 and b are the parameters, which should be initialized randomly and updated (estimated) later, using training algorithm; x1 and x2 are the object features, estimated using functions written in Matlab (available in Matlab code template or in Data.txt).\n",
    "2. Write a training algorithm for created classifier. Use this parameter update formula:\n",
    "w1(n+1) = w1(n) + eta\\*e(n)\\*x1(n); here 0 < eta < 1; e(n) = d(n) - y(n); - an error, estimated by comparing the desired output d(n) and the output, currently (for current example) received from the Perceptron.\n",
    "w2(n+1) = w2(n) + eta\\*e(n)\\*x2(n);\n",
    "b(n+1) = b(n) + eta\\*e(n);\n",
    "# Additional task (2 additional points)\n",
    "Solve this classification task using Naive Bayes Classifier.\n",
    "Some examples and tutorials for additional task:\n",
    "- http://www.statsoft.com/textbook/naive-bayes-classifier\n",
    "- https://en.wikipedia.org/wiki/Naive_Bayes_classifier\n",
    "# Suggested reading\n",
    "- Neural Networks and Learning Machines (3rd Edition), page 54, Table 1.1. \n",
    "\n",
    "# IS-Lab1 (LT)\n",
    "Intelektualiosios sistemos. Pirmojo laboratorinio darbo užduotis.\n",
    "# Tikslas\n",
    "Išmokti savarankiškai suprogramuoti paprasto tiesinio klasifikatoriaus mokymo (parametrų skaičiavimo) algoritmą.\n",
    "# Užduotys (maks. 8 balai)\n",
    "1. Sukurkite paprasto klasifikatoriaus (Perceptrono) išėjimui apskaičiuoti skirtą programą. Klasifikatorius turi skirstyti objektus į dvi klases, pagal du požymius. Išėjimo skaičiavimas atliekamas pagal formulę:\n",
    "y = 1, kai x1\\*w1 + x2\\*w2 + b > 0; y = -1, kai x1\\*w1 + x2\\*w2 + b <= 0; čia w1, w2 ir b parametrai, kurie turi būti sugeneruojami naudojant atsitiktinių skaičių generatorių (MATLAB pvz.: w1 = randn(1);) pirmąją programos veikimo iteraciją ir vėliau atnaujinami mokymo algoritmu; x1 ir x2 yra objektų požymiai, apskaičiuoti Matlab funkcijomis, esančiomis paruoštame kodo ruošinyje arba Data.txt faile (kiekvienoje eilutėje yra toks duomenų formatas: *požymis1, požymis2, norimas_atsakymas*), jei ketinate naudoti ne Matlab.\n",
    "2. Parašykite mokymo algoritmą sukurto klasifikatoriaus parametrams apskaičiuoti. Naudokite šią parametrų atnaujinimo formulę:\n",
    "w1(n+1) = w1(n) + eta\\*e(n)\\*x1(n); čia 0 < eta < 1; e(n) = d(n) - y(n); - klaida (momentinė klaida), apskaičiuota palyginus norimą atsakymą su tuo, kuris gautas klasifikatoriaus išėjime.\n",
    "w2(n+1) = w2(n) + eta\\*e(n)\\*x2(n);\n",
    "b(n+1) = b(n) + eta\\*e(n);\n",
    "# Papildoma užduotis (papildomi 2 balai)\n",
    "Išspręskite šį klasifikavimo uždavinį naudodami Naive Bayes Classifier.\n",
    "Kelios nuorodos į paprastai pateiktus šio tipo klasifikatoriaus taikymo pavyzdžius:\n",
    "- http://www.statsoft.com/textbook/naive-bayes-classifier\n",
    "- https://en.wikipedia.org/wiki/Naive_Bayes_classifier\n",
    "# Rekomenduojama literatūra\n",
    "- Neural Networks and Learning Machines (3rd Edition), 54 psl., 1.1 lentelė\n"
   ]
  },
  {
   "cell_type": "markdown",
   "id": "56f4c948",
   "metadata": {},
   "source": [
    "Dependencies"
   ]
  },
  {
   "cell_type": "code",
   "execution_count": 21,
   "id": "8317fc08",
   "metadata": {},
   "outputs": [],
   "source": [
    "import numpy as np\n",
    "import cv2 as cv"
   ]
  },
  {
   "cell_type": "markdown",
   "id": "d9a84501",
   "metadata": {},
   "source": [
    "Ported Matlab code:"
   ]
  },
  {
   "cell_type": "markdown",
   "id": "4a5955db",
   "metadata": {},
   "source": [
    "Import apple images"
   ]
  },
  {
   "cell_type": "code",
   "execution_count": 3,
   "id": "800da5a6",
   "metadata": {},
   "outputs": [],
   "source": [
    "A1=cv.imread('apple_04.jpg');\n",
    "A2=cv.imread('apple_05.jpg');\n",
    "A3=cv.imread('apple_06.jpg');\n",
    "A4=cv.imread('apple_07.jpg');\n",
    "A5=cv.imread('apple_11.jpg');\n",
    "A6=cv.imread('apple_12.jpg');\n",
    "A7=cv.imread('apple_13.jpg');\n",
    "A8=cv.imread('apple_17.jpg');\n",
    "A9=cv.imread('apple_19.jpg');"
   ]
  },
  {
   "cell_type": "markdown",
   "id": "5f3aeb2c",
   "metadata": {},
   "source": [
    "Import pear images"
   ]
  },
  {
   "cell_type": "code",
   "execution_count": 4,
   "id": "369da453",
   "metadata": {},
   "outputs": [],
   "source": [
    "P1=cv.imread('pear_01.jpg');\n",
    "P2=cv.imread('pear_02.jpg');\n",
    "P3=cv.imread('pear_03.jpg');\n",
    "P4=cv.imread('pear_09.jpg');"
   ]
  },
  {
   "cell_type": "code",
   "execution_count": 19,
   "id": "f1a3b46b",
   "metadata": {},
   "outputs": [],
   "source": [
    "a1_hsv = cv.cvtColor(A1, cv.COLOR_BGR2HSV)\n",
    "a2_hsv = cv.cvtColor(A2, cv.COLOR_BGR2HSV)\n",
    "a3_hsv = cv.cvtColor(A3, cv.COLOR_BGR2HSV)\n",
    "a4_hsv = cv.cvtColor(A4, cv.COLOR_BGR2HSV)\n",
    "a5_hsv = cv.cvtColor(A5, cv.COLOR_BGR2HSV)\n",
    "a6_hsv = cv.cvtColor(A6, cv.COLOR_BGR2HSV)\n",
    "a7_hsv = cv.cvtColor(A7, cv.COLOR_BGR2HSV)\n",
    "a8_hsv = cv.cvtColor(A8, cv.COLOR_BGR2HSV)\n",
    "a9_hsv = cv.cvtColor(A9, cv.COLOR_BGR2HSV)\n",
    "\n",
    "p1_hsv = cv.cvtColor(P1, cv.COLOR_BGR2HSV)\n",
    "p2_hsv = cv.cvtColor(P2, cv.COLOR_BGR2HSV)\n",
    "p3_hsv = cv.cvtColor(P3, cv.COLOR_BGR2HSV)\n",
    "p4_hsv = cv.cvtColor(P4, cv.COLOR_BGR2HSV)\n",
    "\n",
    "a1_gray = cv.cvtColor(A1, cv.COLOR_BGR2GRAY)\n",
    "a2_gray = cv.cvtColor(A2, cv.COLOR_BGR2GRAY)\n",
    "a3_gray = cv.cvtColor(A3, cv.COLOR_BGR2GRAY)\n",
    "a4_gray = cv.cvtColor(A4, cv.COLOR_BGR2GRAY)\n",
    "a5_gray = cv.cvtColor(A5, cv.COLOR_BGR2GRAY)\n",
    "a6_gray = cv.cvtColor(A6, cv.COLOR_BGR2GRAY)\n",
    "a7_gray = cv.cvtColor(A7, cv.COLOR_BGR2GRAY)\n",
    "a8_gray = cv.cvtColor(A8, cv.COLOR_BGR2GRAY)\n",
    "a9_gray = cv.cvtColor(A9, cv.COLOR_BGR2GRAY)\n",
    "\n",
    "p1_gray = cv.cvtColor(P1, cv.COLOR_BGR2GRAY)\n",
    "p2_gray = cv.cvtColor(P2, cv.COLOR_BGR2GRAY)\n",
    "p3_gray = cv.cvtColor(P3, cv.COLOR_BGR2GRAY)\n",
    "p4_gray = cv.cvtColor(P4, cv.COLOR_BGR2GRAY)"
   ]
  },
  {
   "cell_type": "code",
   "execution_count": 38,
   "id": "b663aed5",
   "metadata": {},
   "outputs": [],
   "source": [
    "ret,a_thresh1 = cv.threshold(a1_gray,127,255,cv.THRESH_BINARY)\n",
    "ret,a_thresh2 = cv.threshold(a2_gray,127,255,cv.THRESH_BINARY)\n",
    "ret,a_thresh3 = cv.threshold(a3_gray,127,255,cv.THRESH_BINARY)\n",
    "ret,a_thresh4 = cv.threshold(a4_gray,127,255,cv.THRESH_BINARY)\n",
    "ret,a_thresh5 = cv.threshold(a5_gray,127,255,cv.THRESH_BINARY)\n",
    "ret,a_thresh6 = cv.threshold(a6_gray,127,255,cv.THRESH_BINARY)\n",
    "ret,a_thresh7 = cv.threshold(a7_gray,127,255,cv.THRESH_BINARY)\n",
    "ret,a_thresh8 = cv.threshold(a8_gray,127,255,cv.THRESH_BINARY)\n",
    "ret,a_thresh9 = cv.threshold(a9_gray,127,255,cv.THRESH_BINARY)\n",
    "\n",
    "ret,p_thresh1 = cv.threshold(p1_gray,127,255,cv.THRESH_BINARY)\n",
    "ret,p_thresh2 = cv.threshold(p2_gray,127,255,cv.THRESH_BINARY)\n",
    "ret,p_thresh3 = cv.threshold(p3_gray,127,255,cv.THRESH_BINARY)\n",
    "ret,p_thresh4 = cv.threshold(p4_gray,127,255,cv.THRESH_BINARY)\n",
    "\n",
    "a1_cont, hierarchy = cv.findContours(a_thresh1, cv.RETR_TREE, cv.CHAIN_APPROX_SIMPLE)\n",
    "a2_cont, hierarchy = cv.findContours(a_thresh2, cv.RETR_TREE, cv.CHAIN_APPROX_SIMPLE)\n",
    "a3_cont, hierarchy = cv.findContours(a_thresh3, cv.RETR_TREE, cv.CHAIN_APPROX_SIMPLE)\n",
    "a4_cont, hierarchy = cv.findContours(a_thresh4, cv.RETR_TREE, cv.CHAIN_APPROX_SIMPLE)\n",
    "a5_cont, hierarchy = cv.findContours(a_thresh5, cv.RETR_TREE, cv.CHAIN_APPROX_SIMPLE)\n",
    "a6_cont, hierarchy = cv.findContours(a_thresh6, cv.RETR_TREE, cv.CHAIN_APPROX_SIMPLE)\n",
    "a7_cont, hierarchy = cv.findContours(a_thresh7, cv.RETR_TREE, cv.CHAIN_APPROX_SIMPLE)\n",
    "a8_cont, hierarchy = cv.findContours(a_thresh8, cv.RETR_TREE, cv.CHAIN_APPROX_SIMPLE)\n",
    "a9_cont, hierarchy = cv.findContours(a_thresh9, cv.RETR_TREE, cv.CHAIN_APPROX_SIMPLE)"
   ]
  },
  {
   "cell_type": "code",
   "execution_count": 40,
   "id": "2c1b8496",
   "metadata": {},
   "outputs": [
    {
     "ename": "error",
     "evalue": "OpenCV(4.6.0) :-1: error: (-5:Bad argument) in function 'moments'\n> Overload resolution failed:\n>  - array is not a numerical tuple\n>  - Expected Ptr<cv::UMat> for argument 'array'\n",
     "output_type": "error",
     "traceback": [
      "\u001b[1;31m---------------------------------------------------------------------------\u001b[0m",
      "\u001b[1;31merror\u001b[0m                                     Traceback (most recent call last)",
      "Input \u001b[1;32mIn [40]\u001b[0m, in \u001b[0;36m<cell line: 1>\u001b[1;34m()\u001b[0m\n\u001b[1;32m----> 1\u001b[0m area \u001b[38;5;241m=\u001b[39m \u001b[43mcv\u001b[49m\u001b[38;5;241;43m.\u001b[39;49m\u001b[43mmoments\u001b[49m\u001b[43m(\u001b[49m\u001b[43ma1_cont\u001b[49m\u001b[43m,\u001b[49m\u001b[43m \u001b[49m\u001b[38;5;28;43;01mFalse\u001b[39;49;00m\u001b[43m)\u001b[49m\n\u001b[0;32m      2\u001b[0m ret, perimeter \u001b[38;5;241m=\u001b[39m cv\u001b[38;5;241m.\u001b[39marcLength(a1_cont,\u001b[38;5;28;01mTrue\u001b[39;00m)\n\u001b[0;32m      3\u001b[0m a1_metric \u001b[38;5;241m=\u001b[39m (\u001b[38;5;241m4\u001b[39m\u001b[38;5;241m*\u001b[39mnp\u001b[38;5;241m.\u001b[39mpi\u001b[38;5;241m*\u001b[39marea)\u001b[38;5;241m/\u001b[39m(np\u001b[38;5;241m.\u001b[39mpower(perimeter, \u001b[38;5;241m2\u001b[39m))\n",
      "\u001b[1;31merror\u001b[0m: OpenCV(4.6.0) :-1: error: (-5:Bad argument) in function 'moments'\n> Overload resolution failed:\n>  - array is not a numerical tuple\n>  - Expected Ptr<cv::UMat> for argument 'array'\n"
     ]
    }
   ],
   "source": [
    "ret, area = cv.moments(a1_cont, False)\n",
    "ret, perimeter = cv.arcLength(a1_cont,True)\n",
    "a1_metric = (4*np.pi*area)/(np.power(perimeter, 2))"
   ]
  }
 ],
 "metadata": {
  "kernelspec": {
   "display_name": "Python 3 (ipykernel)",
   "language": "python",
   "name": "python3"
  },
  "language_info": {
   "codemirror_mode": {
    "name": "ipython",
    "version": 3
   },
   "file_extension": ".py",
   "mimetype": "text/x-python",
   "name": "python",
   "nbconvert_exporter": "python",
   "pygments_lexer": "ipython3",
   "version": "3.9.12"
  }
 },
 "nbformat": 4,
 "nbformat_minor": 5
}
